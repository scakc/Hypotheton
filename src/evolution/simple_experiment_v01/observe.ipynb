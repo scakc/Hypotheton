{
 "cells": [
  {
   "cell_type": "code",
   "execution_count": 8,
   "metadata": {},
   "outputs": [],
   "source": [
    "import numpy as np\n",
    "import importlib"
   ]
  },
  {
   "cell_type": "code",
   "execution_count": 47,
   "metadata": {},
   "outputs": [
    {
     "data": {
      "text/plain": [
       "<module 'agent' from 'c:\\\\Users\\\\kumarabh\\\\Downloads\\\\Work\\\\Experiments\\\\Hypotheton\\\\src\\\\evolution\\\\simple_experiment_v01\\\\agent.py'>"
      ]
     },
     "execution_count": 47,
     "metadata": {},
     "output_type": "execute_result"
    }
   ],
   "source": [
    "import env as Environments\n",
    "import agent as Agents\n",
    "importlib.reload(Environments)\n",
    "importlib.reload(Agents)"
   ]
  },
  {
   "cell_type": "code",
   "execution_count": 48,
   "metadata": {},
   "outputs": [
    {
     "name": "stdout",
     "output_type": "stream",
     "text": [
      "sample_dna: ['d1a80807', 'e4d99e73', 'f78a4bf5', '921b103d']\n",
      "sample_input: {'Slr': 0.06896448493579577, 'Sfd': 0.5129257355990501, 'Sg': 0.773195453772407, 'Age': 0.590889828517592, 'Rnd': 0.4087407097108475, 'Blr': 0.3985188312921152, 'Osc': 0.15761761371312877, 'Bfd': 0.3664189069482062, 'Plr': 0.09520739400796463, 'Pop': 0.05475432156376325, 'Pfd': 0.5440882294604769, 'LPf': 0.9221371589848006, 'LMy': 0.516479936421663, 'LBf': 0.4673750183751466, 'LMx': 0.6831234771963051, 'BDy': 0.8651778991428273, 'Gen': 0.14365009352671643, 'BDx': 0.3994795136982354, 'Lx': 0.6402510263450736, 'BD': 0.7633973344346905, 'Ly': 0.6504188726701484}\n",
      "sample_output: {'LPD': 0, 'Kill': 0, 'OSC': 0, 'SG': 0, 'Res': 0, 'Mfd': 0.0, 'Mrn': 0, 'Mrv': 0, 'MRL': 0, 'MX': 0, 'MY': 0}\n"
     ]
    }
   ],
   "source": [
    "random_dna = [format(np.random.randint(0, 16**8, dtype=np.int64) , '08x') for _ in range(4)]\n",
    "agent = Agents.Agent(1, random_dna)\n",
    "print(\"sample_dna:\", agent.dna)\n",
    "# sample input\n",
    "\n",
    "input_keys = [\"Slr\", \"Sfd\", \"Sg\", \"Age\", \"Rnd\", \"Blr\", \"Osc\", \"Bfd\", \"Plr\", \"Pop\", \"Pfd\", \"LPf\", \"LMy\", \"LBf\", \"LMx\", \"BDy\", \"Gen\", \"BDx\", \"Lx\", \"BD\", \"Ly\"]\n",
    "sample_input = {key: np.random.rand() for key in input_keys}\n",
    "print(\"sample_input:\", sample_input)\n",
    "\n",
    "# sample output\n",
    "sample_output = agent.get_outputs(sample_input)\n",
    "print(\"sample_output:\", sample_output)"
   ]
  },
  {
   "cell_type": "code",
   "execution_count": 49,
   "metadata": {},
   "outputs": [],
   "source": [
    "# sample run evolution environment\n",
    "env = Environments.SimpleEvolutionEnv()"
   ]
  },
  {
   "cell_type": "code",
   "execution_count": null,
   "metadata": {},
   "outputs": [],
   "source": []
  }
 ],
 "metadata": {
  "kernelspec": {
   "display_name": "base",
   "language": "python",
   "name": "python3"
  },
  "language_info": {
   "codemirror_mode": {
    "name": "ipython",
    "version": 3
   },
   "file_extension": ".py",
   "mimetype": "text/x-python",
   "name": "python",
   "nbconvert_exporter": "python",
   "pygments_lexer": "ipython3",
   "version": "3.10.9"
  }
 },
 "nbformat": 4,
 "nbformat_minor": 2
}
